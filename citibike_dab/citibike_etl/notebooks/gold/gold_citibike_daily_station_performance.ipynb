{
 "cells": [
  {
   "cell_type": "code",
   "execution_count": null,
   "id": "0e617269",
   "metadata": {},
   "outputs": [],
   "source": [
    "from pyspark.sql.functions import avg, count, round"
   ]
  },
  {
   "cell_type": "code",
   "execution_count": null,
   "id": "03a69a48",
   "metadata": {},
   "outputs": [],
   "source": [
    "#catalog = dbutils.widgets.get(\"catalog\")\n",
    "catalog = 'citibike_dev'"
   ]
  },
  {
   "cell_type": "code",
   "execution_count": null,
   "id": "34275dd3",
   "metadata": {},
   "outputs": [],
   "source": [
    "df = spark.read.table(f\"{catalog}.silver.jc_citibike\")"
   ]
  },
  {
   "cell_type": "code",
   "execution_count": null,
   "id": "ac3ec74b",
   "metadata": {},
   "outputs": [],
   "source": [
    "df = df.\\\n",
    "    groupBy(\"trip_start_date\", \"start_station_name\").\\\n",
    "    agg(\n",
    "    round(avg(\"trip_duration_mins\"),2).alias(\"avg_trip_duration_mins\"),\n",
    "    count(\"ride_id\").alias(\"total_trips\")\n",
    "    )"
   ]
  },
  {
   "cell_type": "code",
   "execution_count": null,
   "id": "4d17ed37",
   "metadata": {},
   "outputs": [],
   "source": [
    "df.write.\\\n",
    "    mode(\"overwrite\").\\\n",
    "    option(\"overwriteSchema\", \"true\").\\\n",
    "    saveAsTable(f\"{catalog}.gold.daily_station_performance\")"
   ]
  }
 ],
 "metadata": {
  "language_info": {
   "name": "python"
  }
 },
 "nbformat": 4,
 "nbformat_minor": 5
}
