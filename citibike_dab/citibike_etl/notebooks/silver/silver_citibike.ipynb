{
 "cells": [
  {
   "cell_type": "code",
   "execution_count": 3,
   "metadata": {},
   "outputs": [],
   "source": [
    "import os\n",
    "import sys"
   ]
  },
  {
   "cell_type": "code",
   "execution_count": 4,
   "metadata": {},
   "outputs": [],
   "source": [
    "current_dir = os.getcwd()\n",
    "project_root = os.path.abspath(os.path.join(current_dir,'..','..','..'))\n",
    "sys.path.append(project_root)"
   ]
  },
  {
   "cell_type": "code",
   "execution_count": 2,
   "metadata": {},
   "outputs": [],
   "source": [
    "from src.citibike.citibike_utils import get_trip_duration_mins\n",
    "from src.utils.datetime_utils import timestamp_to_date_col\n",
    "from pyspark.sql.functions import create_map, lit"
   ]
  },
  {
   "cell_type": "code",
   "execution_count": null,
   "metadata": {},
   "outputs": [],
   "source": [
    "# pipeline_id = dbutils.widgets.get(\"pipeline_id\")\n",
    "# run_id = dbutils.widgets.get(\"run_id\")\n",
    "# task_id = dbutils.widgets.get(\"task_id\")\n",
    "# processed_timestamp = dbutils.widgets.get(\"processed_timestamp\")\n",
    "# catalog = dbutils.widgets.get(\"catalog\")"
   ]
  },
  {
   "cell_type": "code",
   "execution_count": null,
   "metadata": {},
   "outputs": [],
   "source": [
    "#df = spark.read.table(f\"{catalog}.01_bronze.jc_citibike\")\n",
    "df = spark.read.table(f\"citibike_dev.bronze.jc_citibike\")"
   ]
  },
  {
   "cell_type": "code",
   "execution_count": null,
   "metadata": {},
   "outputs": [],
   "source": [
    "df = get_trip_duration_mins(spark, df, \"started_at\", \"ended_at\", \"trip_duration_mins\")"
   ]
  },
  {
   "cell_type": "code",
   "execution_count": null,
   "metadata": {},
   "outputs": [],
   "source": [
    "df = timestamp_to_date_col(spark, df, \"started_at\", \"trip_start_date\")"
   ]
  },
  {
   "cell_type": "code",
   "execution_count": null,
   "metadata": {},
   "outputs": [],
   "source": [
    "# df = df.withColumn(\"metadata\", \n",
    "#               create_map(\n",
    "#                   lit(\"pipeline_id\"), lit(pipeline_id),\n",
    "#                   lit(\"run_id\"), lit(run_id),\n",
    "#                   lit(\"task_id\"), lit(task_id),\n",
    "#                   lit(\"processed_timestamp\"), lit(processed_timestamp)\n",
    "#                   ))\n",
    "\n",
    "df = df.withColumn(\"metadata\", \n",
    "              create_map(\n",
    "                  lit(\"pipeline_id\"), lit('pipeline_id'),\n",
    "                  lit(\"run_id\"), lit('run_id'),\n",
    "                  lit(\"task_id\"), lit('task_id'),\n",
    "                  lit(\"processed_timestamp\"), lit('processed_timestamp')\n",
    "                  ))"
   ]
  },
  {
   "cell_type": "code",
   "execution_count": null,
   "metadata": {},
   "outputs": [],
   "source": [
    "df = df.select(\n",
    "    \"ride_id\",\n",
    "    \"trip_start_date\",\n",
    "    \"started_at\",\n",
    "    \"ended_at\",\n",
    "    \"start_station_name\",\n",
    "    \"end_station_name\",\n",
    "    \"trip_duration_mins\",\n",
    "    \"metadata\"\n",
    "    )"
   ]
  },
  {
   "cell_type": "code",
   "execution_count": null,
   "metadata": {},
   "outputs": [],
   "source": [
    "# df.write.\\\n",
    "#     mode(\"overwrite\").\\\n",
    "#     option(\"overwriteSchema\", \"true\").\\\n",
    "#     saveAsTable(f\"{catalog}.silver.jc_citibike\")\n",
    "\n",
    "df.write.\\\n",
    "    mode(\"overwrite\").\\\n",
    "    option(\"overwriteSchema\", \"true\").\\\n",
    "    saveAsTable(f\"citibike_dev.silver.jc_citibike\")"
   ]
  }
 ],
 "metadata": {
  "kernelspec": {
   "display_name": ".venv_dab",
   "language": "python",
   "name": "python3"
  },
  "language_info": {
   "codemirror_mode": {
    "name": "ipython",
    "version": 3
   },
   "file_extension": ".py",
   "mimetype": "text/x-python",
   "name": "python",
   "nbconvert_exporter": "python",
   "pygments_lexer": "ipython3",
   "version": "3.11.7"
  }
 },
 "nbformat": 4,
 "nbformat_minor": 2
}
